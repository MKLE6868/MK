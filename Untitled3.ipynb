{
  "nbformat": 4,
  "nbformat_minor": 0,
  "metadata": {
    "colab": {
      "name": "Untitled3.ipynb",
      "provenance": [],
      "collapsed_sections": [],
      "authorship_tag": "ABX9TyOegqNr5rywkLPPV3VsoptK",
      "include_colab_link": true
    },
    "kernelspec": {
      "name": "python3",
      "display_name": "Python 3"
    }
  },
  "cells": [
    {
      "cell_type": "markdown",
      "metadata": {
        "id": "view-in-github",
        "colab_type": "text"
      },
      "source": [
        "<a href=\"https://colab.research.google.com/github/MKLE6868/MK/blob/master/Untitled3.ipynb\" target=\"_parent\"><img src=\"https://colab.research.google.com/assets/colab-badge.svg\" alt=\"Open In Colab\"/></a>"
      ]
    },
    {
      "cell_type": "code",
      "metadata": {
        "id": "N7_JQCaHdcg3",
        "colab_type": "code",
        "colab": {}
      },
      "source": [
        "#Install dependencies\n",
        "import numpy as np\n",
        "import pandas as pd\n",
        "from sklearn.tree import DecisionTreeRegressor\n",
        "from sklearn.linear_model import LinearRegression\n",
        "from sklearn.model_selection import train_test_split\n",
        "import matplotlib.pyplot as plt\n",
        "plt.style.use('bmh') "
      ],
      "execution_count": 0,
      "outputs": []
    },
    {
      "cell_type": "code",
      "metadata": {
        "id": "r6srGkO6ePU1",
        "colab_type": "code",
        "colab": {
          "base_uri": "https://localhost:8080/",
          "height": 225
        },
        "outputId": "cf0f8b93-84cb-4d85-cd05-7059cfe4e212"
      },
      "source": [
        "!pip install yfinance"
      ],
      "execution_count": 68,
      "outputs": [
        {
          "output_type": "stream",
          "text": [
            "Requirement already satisfied: yfinance in /usr/local/lib/python3.6/dist-packages (0.1.54)\n",
            "Requirement already satisfied: requests>=2.20 in /usr/local/lib/python3.6/dist-packages (from yfinance) (2.23.0)\n",
            "Requirement already satisfied: multitasking>=0.0.7 in /usr/local/lib/python3.6/dist-packages (from yfinance) (0.0.9)\n",
            "Requirement already satisfied: numpy>=1.15 in /usr/local/lib/python3.6/dist-packages (from yfinance) (1.18.5)\n",
            "Requirement already satisfied: pandas>=0.24 in /usr/local/lib/python3.6/dist-packages (from yfinance) (1.0.4)\n",
            "Requirement already satisfied: certifi>=2017.4.17 in /usr/local/lib/python3.6/dist-packages (from requests>=2.20->yfinance) (2020.4.5.1)\n",
            "Requirement already satisfied: urllib3!=1.25.0,!=1.25.1,<1.26,>=1.21.1 in /usr/local/lib/python3.6/dist-packages (from requests>=2.20->yfinance) (1.24.3)\n",
            "Requirement already satisfied: idna<3,>=2.5 in /usr/local/lib/python3.6/dist-packages (from requests>=2.20->yfinance) (2.9)\n",
            "Requirement already satisfied: chardet<4,>=3.0.2 in /usr/local/lib/python3.6/dist-packages (from requests>=2.20->yfinance) (3.0.4)\n",
            "Requirement already satisfied: pytz>=2017.2 in /usr/local/lib/python3.6/dist-packages (from pandas>=0.24->yfinance) (2018.9)\n",
            "Requirement already satisfied: python-dateutil>=2.6.1 in /usr/local/lib/python3.6/dist-packages (from pandas>=0.24->yfinance) (2.8.1)\n",
            "Requirement already satisfied: six>=1.5 in /usr/local/lib/python3.6/dist-packages (from python-dateutil>=2.6.1->pandas>=0.24->yfinance) (1.12.0)\n"
          ],
          "name": "stdout"
        }
      ]
    },
    {
      "cell_type": "code",
      "metadata": {
        "id": "KfXczxbWd_rh",
        "colab_type": "code",
        "colab": {
          "base_uri": "https://localhost:8080/",
          "height": 35
        },
        "outputId": "9f0dac1d-ef58-4d28-9bb0-1220919b9400"
      },
      "source": [
        "#Load the data\n",
        "from pandas_datareader import data as pdr\n",
        "import yfinance as yf\n",
        "yf.pdr_override() # <== that's all it takes :-)\n",
        "\n",
        "start_date = '2015-01-01'  # YYYY-MM-DD\n",
        "end_date = '2020-06-11'\n",
        "df = pdr.get_data_yahoo('BTE', start_date, end_date)"
      ],
      "execution_count": 69,
      "outputs": [
        {
          "output_type": "stream",
          "text": [
            "\r[*********************100%***********************]  1 of 1 completed\n"
          ],
          "name": "stdout"
        }
      ]
    },
    {
      "cell_type": "code",
      "metadata": {
        "id": "aK5sMH7pgZ6t",
        "colab_type": "code",
        "colab": {
          "base_uri": "https://localhost:8080/",
          "height": 446
        },
        "outputId": "c63a11f4-9f89-4782-bd1a-e81a3347348c"
      },
      "source": [
        "#Store data into a data frame\n",
        "df.head(1369)"
      ],
      "execution_count": 70,
      "outputs": [
        {
          "output_type": "execute_result",
          "data": {
            "text/html": [
              "<div>\n",
              "<style scoped>\n",
              "    .dataframe tbody tr th:only-of-type {\n",
              "        vertical-align: middle;\n",
              "    }\n",
              "\n",
              "    .dataframe tbody tr th {\n",
              "        vertical-align: top;\n",
              "    }\n",
              "\n",
              "    .dataframe thead th {\n",
              "        text-align: right;\n",
              "    }\n",
              "</style>\n",
              "<table border=\"1\" class=\"dataframe\">\n",
              "  <thead>\n",
              "    <tr style=\"text-align: right;\">\n",
              "      <th></th>\n",
              "      <th>Open</th>\n",
              "      <th>High</th>\n",
              "      <th>Low</th>\n",
              "      <th>Close</th>\n",
              "      <th>Adj Close</th>\n",
              "      <th>Volume</th>\n",
              "    </tr>\n",
              "    <tr>\n",
              "      <th>Date</th>\n",
              "      <th></th>\n",
              "      <th></th>\n",
              "      <th></th>\n",
              "      <th></th>\n",
              "      <th></th>\n",
              "      <th></th>\n",
              "    </tr>\n",
              "  </thead>\n",
              "  <tbody>\n",
              "    <tr>\n",
              "      <th>2015-01-02</th>\n",
              "      <td>16.540001</td>\n",
              "      <td>17.139999</td>\n",
              "      <td>16.24</td>\n",
              "      <td>16.82</td>\n",
              "      <td>16.035599</td>\n",
              "      <td>634900</td>\n",
              "    </tr>\n",
              "    <tr>\n",
              "      <th>2015-01-05</th>\n",
              "      <td>16.270000</td>\n",
              "      <td>16.299999</td>\n",
              "      <td>14.27</td>\n",
              "      <td>14.71</td>\n",
              "      <td>14.024002</td>\n",
              "      <td>1304300</td>\n",
              "    </tr>\n",
              "    <tr>\n",
              "      <th>2015-01-06</th>\n",
              "      <td>14.520000</td>\n",
              "      <td>14.900000</td>\n",
              "      <td>14.01</td>\n",
              "      <td>14.21</td>\n",
              "      <td>13.547318</td>\n",
              "      <td>959200</td>\n",
              "    </tr>\n",
              "    <tr>\n",
              "      <th>2015-01-07</th>\n",
              "      <td>14.500000</td>\n",
              "      <td>14.770000</td>\n",
              "      <td>14.13</td>\n",
              "      <td>14.20</td>\n",
              "      <td>13.537785</td>\n",
              "      <td>923400</td>\n",
              "    </tr>\n",
              "    <tr>\n",
              "      <th>2015-01-08</th>\n",
              "      <td>14.340000</td>\n",
              "      <td>14.890000</td>\n",
              "      <td>14.10</td>\n",
              "      <td>14.67</td>\n",
              "      <td>13.985868</td>\n",
              "      <td>1048300</td>\n",
              "    </tr>\n",
              "    <tr>\n",
              "      <th>...</th>\n",
              "      <td>...</td>\n",
              "      <td>...</td>\n",
              "      <td>...</td>\n",
              "      <td>...</td>\n",
              "      <td>...</td>\n",
              "      <td>...</td>\n",
              "    </tr>\n",
              "    <tr>\n",
              "      <th>2020-06-04</th>\n",
              "      <td>0.470000</td>\n",
              "      <td>0.510000</td>\n",
              "      <td>0.44</td>\n",
              "      <td>0.51</td>\n",
              "      <td>0.510000</td>\n",
              "      <td>5741300</td>\n",
              "    </tr>\n",
              "    <tr>\n",
              "      <th>2020-06-05</th>\n",
              "      <td>0.560000</td>\n",
              "      <td>0.640000</td>\n",
              "      <td>0.55</td>\n",
              "      <td>0.63</td>\n",
              "      <td>0.630000</td>\n",
              "      <td>9437100</td>\n",
              "    </tr>\n",
              "    <tr>\n",
              "      <th>2020-06-08</th>\n",
              "      <td>0.740000</td>\n",
              "      <td>0.750000</td>\n",
              "      <td>0.65</td>\n",
              "      <td>0.71</td>\n",
              "      <td>0.710000</td>\n",
              "      <td>15044600</td>\n",
              "    </tr>\n",
              "    <tr>\n",
              "      <th>2020-06-09</th>\n",
              "      <td>0.680000</td>\n",
              "      <td>0.680000</td>\n",
              "      <td>0.63</td>\n",
              "      <td>0.64</td>\n",
              "      <td>0.640000</td>\n",
              "      <td>6529500</td>\n",
              "    </tr>\n",
              "    <tr>\n",
              "      <th>2020-06-10</th>\n",
              "      <td>0.600000</td>\n",
              "      <td>0.630000</td>\n",
              "      <td>0.55</td>\n",
              "      <td>0.60</td>\n",
              "      <td>0.600000</td>\n",
              "      <td>6411100</td>\n",
              "    </tr>\n",
              "  </tbody>\n",
              "</table>\n",
              "<p>1369 rows × 6 columns</p>\n",
              "</div>"
            ],
            "text/plain": [
              "                 Open       High    Low  Close  Adj Close    Volume\n",
              "Date                                                               \n",
              "2015-01-02  16.540001  17.139999  16.24  16.82  16.035599    634900\n",
              "2015-01-05  16.270000  16.299999  14.27  14.71  14.024002   1304300\n",
              "2015-01-06  14.520000  14.900000  14.01  14.21  13.547318    959200\n",
              "2015-01-07  14.500000  14.770000  14.13  14.20  13.537785    923400\n",
              "2015-01-08  14.340000  14.890000  14.10  14.67  13.985868   1048300\n",
              "...               ...        ...    ...    ...        ...       ...\n",
              "2020-06-04   0.470000   0.510000   0.44   0.51   0.510000   5741300\n",
              "2020-06-05   0.560000   0.640000   0.55   0.63   0.630000   9437100\n",
              "2020-06-08   0.740000   0.750000   0.65   0.71   0.710000  15044600\n",
              "2020-06-09   0.680000   0.680000   0.63   0.64   0.640000   6529500\n",
              "2020-06-10   0.600000   0.630000   0.55   0.60   0.600000   6411100\n",
              "\n",
              "[1369 rows x 6 columns]"
            ]
          },
          "metadata": {
            "tags": []
          },
          "execution_count": 70
        }
      ]
    },
    {
      "cell_type": "code",
      "metadata": {
        "id": "gVPUKcp4eUKh",
        "colab_type": "code",
        "colab": {
          "base_uri": "https://localhost:8080/",
          "height": 35
        },
        "outputId": "2dd4acee-f332-431e-86ac-8e4881c721b0"
      },
      "source": [
        "#Get the number of trading days\n",
        "df.shape"
      ],
      "execution_count": 71,
      "outputs": [
        {
          "output_type": "execute_result",
          "data": {
            "text/plain": [
              "(1369, 6)"
            ]
          },
          "metadata": {
            "tags": []
          },
          "execution_count": 71
        }
      ]
    },
    {
      "cell_type": "code",
      "metadata": {
        "id": "4UmSQJ8uenII",
        "colab_type": "code",
        "colab": {
          "base_uri": "https://localhost:8080/",
          "height": 513
        },
        "outputId": "6f2f5f37-4e79-45cb-c907-5b141b776f58"
      },
      "source": [
        "#Visualize the data\n",
        "plt.figure(figsize = (16, 8))\n",
        "plt.title('BTE')\n",
        "plt.xlabel('Days')\n",
        "plt.ylabel('Close price CAD')\n",
        "plt.plot(df['Close'])\n",
        "plt.show()"
      ],
      "execution_count": 73,
      "outputs": [
        {
          "output_type": "display_data",
          "data": {
            "image/png": "[encoded data removed]",
            "text/plain": [
              "<Figure size 1152x576 with 1 Axes>"
            ]
          },
          "metadata": {
            "tags": [],
            "needs_background": "light"
          }
        }
      ]
    },
    {
      "cell_type": "code",
      "metadata": {
        "id": "Zlmp2ZgEhcfU",
        "colab_type": "code",
        "colab": {
          "base_uri": "https://localhost:8080/",
          "height": 446
        },
        "outputId": "01d36d5b-1263-4e48-ff1c-1c88a47e8a84"
      },
      "source": [
        "#Get the close price\n",
        "df = df[['Close']]\n",
        "df.head(1369)"
      ],
      "execution_count": 74,
      "outputs": [
        {
          "output_type": "execute_result",
          "data": {
            "text/html": [
              "<div>\n",
              "<style scoped>\n",
              "    .dataframe tbody tr th:only-of-type {\n",
              "        vertical-align: middle;\n",
              "    }\n",
              "\n",
              "    .dataframe tbody tr th {\n",
              "        vertical-align: top;\n",
              "    }\n",
              "\n",
              "    .dataframe thead th {\n",
              "        text-align: right;\n",
              "    }\n",
              "</style>\n",
              "<table border=\"1\" class=\"dataframe\">\n",
              "  <thead>\n",
              "    <tr style=\"text-align: right;\">\n",
              "      <th></th>\n",
              "      <th>Close</th>\n",
              "    </tr>\n",
              "    <tr>\n",
              "      <th>Date</th>\n",
              "      <th></th>\n",
              "    </tr>\n",
              "  </thead>\n",
              "  <tbody>\n",
              "    <tr>\n",
              "      <th>2015-01-02</th>\n",
              "      <td>16.82</td>\n",
              "    </tr>\n",
              "    <tr>\n",
              "      <th>2015-01-05</th>\n",
              "      <td>14.71</td>\n",
              "    </tr>\n",
              "    <tr>\n",
              "      <th>2015-01-06</th>\n",
              "      <td>14.21</td>\n",
              "    </tr>\n",
              "    <tr>\n",
              "      <th>2015-01-07</th>\n",
              "      <td>14.20</td>\n",
              "    </tr>\n",
              "    <tr>\n",
              "      <th>2015-01-08</th>\n",
              "      <td>14.67</td>\n",
              "    </tr>\n",
              "    <tr>\n",
              "      <th>...</th>\n",
              "      <td>...</td>\n",
              "    </tr>\n",
              "    <tr>\n",
              "      <th>2020-06-04</th>\n",
              "      <td>0.51</td>\n",
              "    </tr>\n",
              "    <tr>\n",
              "      <th>2020-06-05</th>\n",
              "      <td>0.63</td>\n",
              "    </tr>\n",
              "    <tr>\n",
              "      <th>2020-06-08</th>\n",
              "      <td>0.71</td>\n",
              "    </tr>\n",
              "    <tr>\n",
              "      <th>2020-06-09</th>\n",
              "      <td>0.64</td>\n",
              "    </tr>\n",
              "    <tr>\n",
              "      <th>2020-06-10</th>\n",
              "      <td>0.60</td>\n",
              "    </tr>\n",
              "  </tbody>\n",
              "</table>\n",
              "<p>1369 rows × 1 columns</p>\n",
              "</div>"
            ],
            "text/plain": [
              "            Close\n",
              "Date             \n",
              "2015-01-02  16.82\n",
              "2015-01-05  14.71\n",
              "2015-01-06  14.21\n",
              "2015-01-07  14.20\n",
              "2015-01-08  14.67\n",
              "...           ...\n",
              "2020-06-04   0.51\n",
              "2020-06-05   0.63\n",
              "2020-06-08   0.71\n",
              "2020-06-09   0.64\n",
              "2020-06-10   0.60\n",
              "\n",
              "[1369 rows x 1 columns]"
            ]
          },
          "metadata": {
            "tags": []
          },
          "execution_count": 74
        }
      ]
    },
    {
      "cell_type": "code",
      "metadata": {
        "id": "_ev2z8koh5p0",
        "colab_type": "code",
        "colab": {
          "base_uri": "https://localhost:8080/",
          "height": 550
        },
        "outputId": "7156d439-900b-4a62-ef37-bb5fcdb7eb4c"
      },
      "source": [
        "#Create a variable to predict 'x' days out of the future \n",
        "future_days = 30\n",
        "df['Prediction'] = df[['Close']].shift(-future_days)\n",
        "df.tail(1369)\n"
      ],
      "execution_count": 77,
      "outputs": [
        {
          "output_type": "stream",
          "text": [
            "/usr/local/lib/python3.6/dist-packages/ipykernel_launcher.py:3: SettingWithCopyWarning: \n",
            "A value is trying to be set on a copy of a slice from a DataFrame.\n",
            "Try using .loc[row_indexer,col_indexer] = value instead\n",
            "\n",
            "See the caveats in the documentation: https://pandas.pydata.org/pandas-docs/stable/user_guide/indexing.html#returning-a-view-versus-a-copy\n",
            "  This is separate from the ipykernel package so we can avoid doing imports until\n"
          ],
          "name": "stderr"
        },
        {
          "output_type": "execute_result",
          "data": {
            "text/html": [
              "<div>\n",
              "<style scoped>\n",
              "    .dataframe tbody tr th:only-of-type {\n",
              "        vertical-align: middle;\n",
              "    }\n",
              "\n",
              "    .dataframe tbody tr th {\n",
              "        vertical-align: top;\n",
              "    }\n",
              "\n",
              "    .dataframe thead th {\n",
              "        text-align: right;\n",
              "    }\n",
              "</style>\n",
              "<table border=\"1\" class=\"dataframe\">\n",
              "  <thead>\n",
              "    <tr style=\"text-align: right;\">\n",
              "      <th></th>\n",
              "      <th>Close</th>\n",
              "      <th>Prediction</th>\n",
              "    </tr>\n",
              "    <tr>\n",
              "      <th>Date</th>\n",
              "      <th></th>\n",
              "      <th></th>\n",
              "    </tr>\n",
              "  </thead>\n",
              "  <tbody>\n",
              "    <tr>\n",
              "      <th>2015-01-02</th>\n",
              "      <td>16.82</td>\n",
              "      <td>19.540001</td>\n",
              "    </tr>\n",
              "    <tr>\n",
              "      <th>2015-01-05</th>\n",
              "      <td>14.71</td>\n",
              "      <td>18.389999</td>\n",
              "    </tr>\n",
              "    <tr>\n",
              "      <th>2015-01-06</th>\n",
              "      <td>14.21</td>\n",
              "      <td>18.059999</td>\n",
              "    </tr>\n",
              "    <tr>\n",
              "      <th>2015-01-07</th>\n",
              "      <td>14.20</td>\n",
              "      <td>17.730000</td>\n",
              "    </tr>\n",
              "    <tr>\n",
              "      <th>2015-01-08</th>\n",
              "      <td>14.67</td>\n",
              "      <td>17.010000</td>\n",
              "    </tr>\n",
              "    <tr>\n",
              "      <th>...</th>\n",
              "      <td>...</td>\n",
              "      <td>...</td>\n",
              "    </tr>\n",
              "    <tr>\n",
              "      <th>2020-06-04</th>\n",
              "      <td>0.51</td>\n",
              "      <td>NaN</td>\n",
              "    </tr>\n",
              "    <tr>\n",
              "      <th>2020-06-05</th>\n",
              "      <td>0.63</td>\n",
              "      <td>NaN</td>\n",
              "    </tr>\n",
              "    <tr>\n",
              "      <th>2020-06-08</th>\n",
              "      <td>0.71</td>\n",
              "      <td>NaN</td>\n",
              "    </tr>\n",
              "    <tr>\n",
              "      <th>2020-06-09</th>\n",
              "      <td>0.64</td>\n",
              "      <td>NaN</td>\n",
              "    </tr>\n",
              "    <tr>\n",
              "      <th>2020-06-10</th>\n",
              "      <td>0.60</td>\n",
              "      <td>NaN</td>\n",
              "    </tr>\n",
              "  </tbody>\n",
              "</table>\n",
              "<p>1369 rows × 2 columns</p>\n",
              "</div>"
            ],
            "text/plain": [
              "            Close  Prediction\n",
              "Date                         \n",
              "2015-01-02  16.82   19.540001\n",
              "2015-01-05  14.71   18.389999\n",
              "2015-01-06  14.21   18.059999\n",
              "2015-01-07  14.20   17.730000\n",
              "2015-01-08  14.67   17.010000\n",
              "...           ...         ...\n",
              "2020-06-04   0.51         NaN\n",
              "2020-06-05   0.63         NaN\n",
              "2020-06-08   0.71         NaN\n",
              "2020-06-09   0.64         NaN\n",
              "2020-06-10   0.60         NaN\n",
              "\n",
              "[1369 rows x 2 columns]"
            ]
          },
          "metadata": {
            "tags": []
          },
          "execution_count": 77
        }
      ]
    },
    {
      "cell_type": "code",
      "metadata": {
        "id": "RofL8lD3l6pq",
        "colab_type": "code",
        "colab": {
          "base_uri": "https://localhost:8080/",
          "height": 139
        },
        "outputId": "5e50611d-b86c-48f2-c44f-a3bb3db59eae"
      },
      "source": [
        "#Create a feature data set (X) and convert it to a numpy array and remove the last 'x' rows/days\n",
        "X = np.array(df.drop(['Prediction'], 1))[:-future_days]\n",
        "print(X)"
      ],
      "execution_count": 78,
      "outputs": [
        {
          "output_type": "stream",
          "text": [
            "[[16.81999969]\n",
            " [14.71000004]\n",
            " [14.21000004]\n",
            " ...\n",
            " [ 0.25999999]\n",
            " [ 0.25999999]\n",
            " [ 0.27000001]]\n"
          ],
          "name": "stdout"
        }
      ]
    },
    {
      "cell_type": "code",
      "metadata": {
        "id": "c5T304LtpS-Z",
        "colab_type": "code",
        "colab": {
          "base_uri": "https://localhost:8080/",
          "height": 52
        },
        "outputId": "d8913851-4dbd-422e-c6a8-926d53a14fbc"
      },
      "source": [
        "#Create the target data set (Y) and convert it to a numpy array and get all of the target values except the last 'X' rows/days\n",
        "Y = np.array(df['Prediction'])[:-future_days]\n",
        "print(Y)"
      ],
      "execution_count": 79,
      "outputs": [
        {
          "output_type": "stream",
          "text": [
            "[19.54000092 18.38999939 18.05999947 ...  0.70999998  0.63999999\n",
            "  0.60000002]\n"
          ],
          "name": "stdout"
        }
      ]
    },
    {
      "cell_type": "code",
      "metadata": {
        "id": "BydOFaQjp2Q0",
        "colab_type": "code",
        "colab": {}
      },
      "source": [
        "#Split the data into 75% training and 25% testing\n",
        "X_train, X_test, Y_train, Y_test = train_test_split(X, Y, test_size = 0.25) "
      ],
      "execution_count": 0,
      "outputs": []
    },
    {
      "cell_type": "code",
      "metadata": {
        "id": "-CM7DxWuqlQb",
        "colab_type": "code",
        "colab": {}
      },
      "source": [
        "#Create the model\n",
        "#Create the decision tree regressor model\n",
        "tree = DecisionTreeRegressor().fit(X_train, Y_train)\n",
        "#Create the linear regression  model\n",
        "lr = LinearRegression().fit(X_train, Y_train)"
      ],
      "execution_count": 0,
      "outputs": []
    },
    {
      "cell_type": "code",
      "metadata": {
        "id": "oLcyq0wcq_ev",
        "colab_type": "code",
        "colab": {
          "base_uri": "https://localhost:8080/",
          "height": 537
        },
        "outputId": "db22b420-ebbb-4ee9-f86d-63494f0ce50a"
      },
      "source": [
        "#Get the last 'X' rows of the feature data set\n",
        "X_future = df.drop(['Prediction'], 1)[:-future_days]\n",
        "X_future = X_future.tail(future_days)\n",
        "X_future = np.array(X_future)\n",
        "X_future"
      ],
      "execution_count": 84,
      "outputs": [
        {
          "output_type": "execute_result",
          "data": {
            "text/plain": [
              "array([[0.27000001],\n",
              "       [0.23      ],\n",
              "       [0.22      ],\n",
              "       [0.25      ],\n",
              "       [0.23      ],\n",
              "       [0.23      ],\n",
              "       [0.25      ],\n",
              "       [0.23999999],\n",
              "       [0.20999999],\n",
              "       [0.20999999],\n",
              "       [0.23      ],\n",
              "       [0.22      ],\n",
              "       [0.28      ],\n",
              "       [0.30000001],\n",
              "       [0.30000001],\n",
              "       [0.30000001],\n",
              "       [0.30000001],\n",
              "       [0.28999999],\n",
              "       [0.28      ],\n",
              "       [0.27000001],\n",
              "       [0.23999999],\n",
              "       [0.22      ],\n",
              "       [0.23999999],\n",
              "       [0.22      ],\n",
              "       [0.22      ],\n",
              "       [0.23999999],\n",
              "       [0.27000001],\n",
              "       [0.25999999],\n",
              "       [0.25999999],\n",
              "       [0.27000001]])"
            ]
          },
          "metadata": {
            "tags": []
          },
          "execution_count": 84
        }
      ]
    },
    {
      "cell_type": "code",
      "metadata": {
        "id": "UPuys-a4sWd1",
        "colab_type": "code",
        "colab": {
          "base_uri": "https://localhost:8080/",
          "height": 208
        },
        "outputId": "bac6e1b7-4fee-4f11-fac6-bce96129482b"
      },
      "source": [
        "#Show the model tree prediction \n",
        "tree_prediction = tree.predict(X_future)\n",
        "print(tree_prediction)\n",
        "print()\n",
        "#Show the model linear regression prediction\n",
        "lr_prediction = lr.predict(X_future)\n",
        "print(lr_prediction)\n"
      ],
      "execution_count": 86,
      "outputs": [
        {
          "output_type": "stream",
          "text": [
            "[0.4675     0.29666667 0.37       0.30500001 0.29666667 0.29666667\n",
            " 0.30500001 0.30500001 0.27500001 0.27500001 0.29666667 0.37\n",
            " 0.28999999 0.29750001 0.29750001 0.29750001 0.29750001 0.30000001\n",
            " 0.28999999 0.4675     0.30500001 0.37       0.30500001 0.37\n",
            " 0.37       0.30500001 0.4675     0.63999999 0.63999999 0.4675    ]\n",
            "\n",
            "[0.58602333 0.5525398  0.54416892 0.56928156 0.5525398  0.5525398\n",
            " 0.56928156 0.56091068 0.53579803 0.53579803 0.5525398  0.54416892\n",
            " 0.5943942  0.61113597 0.61113597 0.61113597 0.61113597 0.60276507\n",
            " 0.5943942  0.58602333 0.56091068 0.54416892 0.56091068 0.54416892\n",
            " 0.54416892 0.56091068 0.58602333 0.57765243 0.57765243 0.58602333]\n"
          ],
          "name": "stdout"
        }
      ]
    },
    {
      "cell_type": "code",
      "metadata": {
        "id": "FWMaKSP0tLt6",
        "colab_type": "code",
        "colab": {
          "base_uri": "https://localhost:8080/",
          "height": 617
        },
        "outputId": "6cb26dd2-d421-4cf3-922e-00c421ce2674"
      },
      "source": [
        "#Visualize the data\n",
        "predictions = tree_prediction\n",
        "valid = df[X.shape[0]:]\n",
        "valid['Predictions'] = predictions\n",
        "plt.figure(figsize=(16,8))\n",
        "plt.title('Model')\n",
        "plt.xlabel('Days')\n",
        "plt.ylabel('Close price USD')\n",
        "plt.plot(df['Close'])\n",
        "plt.plot(valid[['Close', 'Predictions']])\n",
        "plt.legend(['Original', 'Valid', 'Prediction'])\n",
        "plt.show() "
      ],
      "execution_count": 88,
      "outputs": [
        {
          "output_type": "stream",
          "text": [
            "/usr/local/lib/python3.6/dist-packages/ipykernel_launcher.py:4: SettingWithCopyWarning: \n",
            "A value is trying to be set on a copy of a slice from a DataFrame.\n",
            "Try using .loc[row_indexer,col_indexer] = value instead\n",
            "\n",
            "See the caveats in the documentation: https://pandas.pydata.org/pandas-docs/stable/user_guide/indexing.html#returning-a-view-versus-a-copy\n",
            "  after removing the cwd from sys.path.\n"
          ],
          "name": "stderr"
        },
        {
          "output_type": "display_data",
          "data": {
            "image/png": "[encoded data removed]",
            "text/plain": [
              "<Figure size 1152x576 with 1 Axes>"
            ]
          },
          "metadata": {
            "tags": [],
            "needs_background": "light"
          }
        }
      ]
    }
  ]
}